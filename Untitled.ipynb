{
 "cells": [
  {
   "cell_type": "code",
   "execution_count": 3,
   "metadata": {},
   "outputs": [],
   "source": [
    "from PIL import Image\n",
    "import numpy as np"
   ]
  },
  {
   "cell_type": "code",
   "execution_count": null,
   "id": "701bb7b0",
   "metadata": {},
   "outputs": [],
   "source": []
  },
  {
   "cell_type": "code",
   "execution_count": 136,
   "id": "38ea9fe1",
   "metadata": {},
   "outputs": [],
   "source": [
    "colors = {\n",
    "    'Red': [255.0, 0.0, 0.0],\n",
    "    'Yellow': [255.0, 255.0, 0.0],\n",
    "    'Blue': [0.0, 0.0, 255.0],\n",
    "    'Orange': [255.0, 165.0, 0.0],\n",
    "    'Green': [0.0, 128.0, 0.0],\n",
    "    'Violet': [238.0, 130.0, 238.0],\n",
    "    'White': [255.0, 255.0, 255.0],\n",
    "    'Black': [0.0, 0.0, 0.0]\n",
    "}"
   ]
  },
  {
   "cell_type": "code",
   "execution_count": 64,
   "id": "626b20ea",
   "metadata": {},
   "outputs": [],
   "source": [
    "def similarity(actual,defined):\n",
    "    return 0.3*((actual[0] - defined[0])**2)+ 0.59*((actual[1] - defined[1])**2)+0.11*((actual[2] - defined[2])**2)"
   ]
  },
  {
   "cell_type": "code",
   "execution_count": 108,
   "id": "5bc59604",
   "metadata": {},
   "outputs": [],
   "source": [
    "import time\n"
   ]
  },
  {
   "cell_type": "code",
   "execution_count": 115,
   "id": "5d8e2e44",
   "metadata": {},
   "outputs": [],
   "source": [
    "def compare(rgb,colors):\n",
    "    #sim = -1000000\n",
    "    # sim = {}\n",
    "    # for k,cols in colors.items():\n",
    "    #     similarity_ = similarity(rgb,cols)\n",
    "    #     sim[k] = similarity_\n",
    "    # return min(sim, key = sim.get)\n",
    "    return min(colors, key=lambda k: similarity(rgb, colors[k]))"
   ]
  },
  {
   "cell_type": "code",
   "execution_count": 116,
   "id": "f80111ba",
   "metadata": {},
   "outputs": [
    {
     "name": "stdout",
     "output_type": "stream",
     "text": [
      "Green\n",
      "Elapsed time: 0.00048460000107297674 seconds\n"
     ]
    }
   ],
   "source": [
    "start_time = time.perf_counter()\n",
    "\n",
    "print(compare([255.0,233.0,21.0],colors) )\n",
    "\n",
    "print(\"Elapsed time:\", time.perf_counter() - start_time, \"seconds\")\n"
   ]
  },
  {
   "cell_type": "code",
   "execution_count": 61,
   "id": "708d9d68",
   "metadata": {},
   "outputs": [
    {
     "data": {
      "text/plain": [
       "True"
      ]
     },
     "execution_count": 61,
     "metadata": {},
     "output_type": "execute_result"
    }
   ],
   "source": []
  },
  {
   "cell_type": "code",
   "execution_count": 139,
   "id": "99d68484",
   "metadata": {},
   "outputs": [],
   "source": [
    "list_ = []\n",
    "with Image.open('image.jpeg') as image:\n",
    "    image_array = np.array(image)\n",
    "    height, width, channels = image_array.shape\n",
    "    pixels = image_array.reshape(-1, channels)\n",
    "    count = 0\n",
    "    list_a = []\n",
    "    for pixel in pixels:\n",
    "        count = count + 1\n",
    "        # Extract the RGB values of the current pixel\n",
    "        r, g, b = pixel\n",
    "        nearest_color = compare([r,g,b],colors)\n",
    "        #print(nearest_color)\n",
    "        list_a.append(colors[nearest_color])\n",
    "        if count == width:\n",
    "            list_.append(list_a)\n",
    "            list_a = []\n",
    "            count = 0\n"
   ]
  },
  {
   "cell_type": "code",
   "execution_count": 138,
   "id": "0d92c48e",
   "metadata": {},
   "outputs": [],
   "source": [
    "array = np.array(list_,dtype = np.uint8)\n",
    "new_image = Image.fromarray(array)\n",
    "new_image.save('new.png')"
   ]
  },
  {
   "cell_type": "code",
   "execution_count": 132,
   "id": "db53b408",
   "metadata": {},
   "outputs": [
    {
     "data": {
      "text/plain": [
       "1454"
      ]
     },
     "execution_count": 132,
     "metadata": {},
     "output_type": "execute_result"
    }
   ],
   "source": [
    "len(list_[0])"
   ]
  },
  {
   "cell_type": "code",
   "execution_count": 130,
   "id": "bcc8b093",
   "metadata": {},
   "outputs": [
    {
     "data": {
      "text/plain": [
       "{800, 1454}"
      ]
     },
     "execution_count": 130,
     "metadata": {},
     "output_type": "execute_result"
    }
   ],
   "source": [
    "lengths\n"
   ]
  },
  {
   "cell_type": "code",
   "execution_count": null,
   "id": "a2c5bc2e",
   "metadata": {},
   "outputs": [],
   "source": []
  }
 ],
 "metadata": {
  "kernelspec": {
   "display_name": "animate_env",
   "language": "python",
   "name": "python3"
  },
  "language_info": {
   "codemirror_mode": {
    "name": "ipython",
    "version": 3
   },
   "file_extension": ".py",
   "mimetype": "text/x-python",
   "name": "python",
   "nbconvert_exporter": "python",
   "pygments_lexer": "ipython3",
   "version": "3.8.8"
  }
 },
 "nbformat": 4,
 "nbformat_minor": 5
}
